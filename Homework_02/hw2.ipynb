{
 "cells": [
  {
   "attachments": {},
   "cell_type": "markdown",
   "metadata": {},
   "source": [
    "# Homework 2 - Xinyi Xu\n",
    "Hi! Thank you for stopping by and checking out my Jupyter notebook :D\n",
    "Hope you enjoy your stay. With love and vibes, Xinyi \n",
    "\n",
    "## Question 1\n",
    "\n",
    "#### Cool People I Know In No Particular Order!\n",
    "| Funny Number  | First Name    |  Last Name |\n",
    "|---------------|:-------------:|-----------:|\n",
    "|       1       |     Xinyi     |      Xu    |\n",
    "|       2       |     Andre     | Cavalcanti |\n",
    "|       3       |    Michele    |    Tang    |\n",
    "|       4       |     Victor    |    Chai    |\n",
    "|       5       |    Mariana    |    Duran   |\n",
    "|       6       |     Vitor     |  Vavolizza |"
   ]
  },
  {
   "attachments": {},
   "cell_type": "markdown",
   "metadata": {},
   "source": [
    "![coolguy](cool.jpeg \"Us\")"
   ]
  },
  {
   "attachments": {},
   "cell_type": "markdown",
   "metadata": {},
   "source": [
    "## Question 2"
   ]
  },
  {
   "cell_type": "code",
   "execution_count": 78,
   "metadata": {},
   "outputs": [
    {
     "data": {
      "image/svg+xml": "<svg xmlns=\"http://www.w3.org/2000/svg\" xmlns:xlink=\"http://www.w3.org/1999/xlink\" width=\"300\" height=\"300\">\n  <circle cx=\"50\" cy=\"50\" r=\"40\" stroke=\"orange\" stroke-width=\"4\" fill=\"yellow\"/>\n  <rect x=\"100\" y=\"200\" width=\"100\" height=\"100\" stroke=\"purple\" stroke-width=\"4\" fill=\"pink\"/>\n  <polygon points=\"60,200 240,200 150 150\" stroke=\"purple\" stroke-width=\"4\" fill=\"purple\"/>\n  <rect x=\"150\" y=\"250\" width=\"30\" height=\"60\" stroke=\"black\" stroke-width=\"2\" fill=\"gray\"/>\n  <circle cx=\"240\" cy=\"270\" r=\"8\" stroke=\"orange\" stroke-width=\"2\" fill=\"yellow\"/>\n  <polygon points=\"230,300 250,300 240 280\" stroke=\"pink\" stroke-width=\"2\" fill=\"red\"/>\n</svg>",
      "text/plain": [
       "<IPython.core.display.SVG object>"
      ]
     },
     "metadata": {},
     "output_type": "display_data"
    }
   ],
   "source": [
    "%%SVG\n",
    "<svg width=\"300\" height=\"300\" xmlns=\"http://www.w3.org/2000/svg\"\n",
    "     xmlns:xlink=\"http://www.w3.org/1999/xlink\">\n",
    "  <circle cx=\"50\" cy=\"50\" r=\"40\" stroke=\"orange\" stroke-width=\"4\" fill=\"yellow\" />\n",
    "  <rect x=\"100\" y=\"200\" width=\"100\" height=\"100\" stroke=\"purple\" stroke-width=\"4\" fill=\"pink\"/>\n",
    "  <polygon points = \"60,200 240,200 150 150\" stroke=\"purple\" stroke-width=\"4\" fill=\"purple\"/>\n",
    "  <rect x=\"150\" y=\"250\" width=\"30\" height=\"60\" stroke=\"black\" stroke-width=\"2\" fill=\"gray\"/>\n",
    "  <circle cx=\"240\" cy=\"270\" r=\"8\" stroke=\"orange\" stroke-width=\"2\" fill=\"yellow\" />\n",
    "  <polygon points = \"230,300 250,300 240 280\" stroke=\"pink\" stroke-width=\"2\" fill=\"red\"/>\n",
    "</svg>"
   ]
  }
 ],
 "metadata": {
  "kernelspec": {
   "display_name": "base",
   "language": "python",
   "name": "python3"
  },
  "language_info": {
   "codemirror_mode": {
    "name": "ipython",
    "version": 3
   },
   "file_extension": ".py",
   "mimetype": "text/x-python",
   "name": "python",
   "nbconvert_exporter": "python",
   "pygments_lexer": "ipython3",
   "version": "3.9.7"
  },
  "orig_nbformat": 4,
  "vscode": {
   "interpreter": {
    "hash": "071c89b4ab188bcca2dde4c8d3d8287bb640d2f7a1afd7ac42db77558820c7ce"
   }
  }
 },
 "nbformat": 4,
 "nbformat_minor": 2
}
